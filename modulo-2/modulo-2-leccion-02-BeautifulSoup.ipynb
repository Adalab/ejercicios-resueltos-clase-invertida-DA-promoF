{
 "cells": [
  {
   "cell_type": "code",
   "execution_count": 1,
   "metadata": {},
   "outputs": [],
   "source": [
    "# antes de empezar importamos las librerías que vamos a usar. \n",
    "from bs4 import BeautifulSoup\n",
    "import requests\n",
    "import re\n",
    "import pandas as pd"
   ]
  },
  {
   "cell_type": "code",
   "execution_count": 2,
   "metadata": {},
   "outputs": [],
   "source": [
    "def sacar_medallero(url):\n",
    "\n",
    "    # hacemos la request a la página de la que queremos sacar la info\n",
    "    res_medallero= requests.get(url)\n",
    "    \n",
    "    print(res_medallero.status_code)\n",
    "\n",
    "    sopa_medallero = BeautifulSoup(res_medallero.content, 'html.parser')\n",
    "\n",
    "    tablas = sopa_medallero.find_all(\"table\")\n",
    "\n",
    "    # de todas las tablas que hay nos quedamos con la que nos interesa, la que tiene las medallas. \n",
    "    medallero = tablas[0]\n",
    "    \n",
    "    diccionario = {\"numero\": [], \n",
    "               \"pais\": [], \n",
    "               \"oro\": [], \n",
    "               \"plata\": [], \n",
    "               \"bronce\": [], \n",
    "               \"total\": []}\n",
    "    \n",
    "    filas = medallero.findAll(\"tr\")[1:]\n",
    "    for fila in filas:\n",
    "        celdas = fila.findAll(\"td\")\n",
    "        diccionario[\"numero\"].append(celdas[0].text)\n",
    "        diccionario[\"pais\"].append(celdas[1].text)\n",
    "        diccionario[\"oro\"].append(celdas[2].text)\n",
    "        diccionario[\"plata\"].append(celdas[3].text)\n",
    "        diccionario[\"bronce\"].append(celdas[4].text)\n",
    "        diccionario[\"total\"].append(celdas[5].text.strip())\n",
    "    \n",
    "    return pd.DataFrame(diccionario)\n",
    "\n",
    "\n",
    "    "
   ]
  },
  {
   "cell_type": "code",
   "execution_count": 3,
   "metadata": {},
   "outputs": [
    {
     "name": "stdout",
     "output_type": "stream",
     "text": [
      "200\n"
     ]
    },
    {
     "data": {
      "text/html": [
       "<div>\n",
       "<style scoped>\n",
       "    .dataframe tbody tr th:only-of-type {\n",
       "        vertical-align: middle;\n",
       "    }\n",
       "\n",
       "    .dataframe tbody tr th {\n",
       "        vertical-align: top;\n",
       "    }\n",
       "\n",
       "    .dataframe thead th {\n",
       "        text-align: right;\n",
       "    }\n",
       "</style>\n",
       "<table border=\"1\" class=\"dataframe\">\n",
       "  <thead>\n",
       "    <tr style=\"text-align: right;\">\n",
       "      <th></th>\n",
       "      <th>numero</th>\n",
       "      <th>pais</th>\n",
       "      <th>oro</th>\n",
       "      <th>plata</th>\n",
       "      <th>bronce</th>\n",
       "      <th>total</th>\n",
       "    </tr>\n",
       "  </thead>\n",
       "  <tbody>\n",
       "    <tr>\n",
       "      <th>0</th>\n",
       "      <td>1</td>\n",
       "      <td>Estados Unidos (USA)</td>\n",
       "      <td>39</td>\n",
       "      <td>41</td>\n",
       "      <td>33</td>\n",
       "      <td>113</td>\n",
       "    </tr>\n",
       "    <tr>\n",
       "      <th>1</th>\n",
       "      <td>2</td>\n",
       "      <td>China (CHN)</td>\n",
       "      <td>38</td>\n",
       "      <td>32</td>\n",
       "      <td>19</td>\n",
       "      <td>89</td>\n",
       "    </tr>\n",
       "    <tr>\n",
       "      <th>2</th>\n",
       "      <td>3</td>\n",
       "      <td>Japón (JPN)</td>\n",
       "      <td>27</td>\n",
       "      <td>14</td>\n",
       "      <td>17</td>\n",
       "      <td>58</td>\n",
       "    </tr>\n",
       "    <tr>\n",
       "      <th>3</th>\n",
       "      <td>4</td>\n",
       "      <td>Reino Unido (GBR)</td>\n",
       "      <td>22</td>\n",
       "      <td>20</td>\n",
       "      <td>22</td>\n",
       "      <td>64</td>\n",
       "    </tr>\n",
       "    <tr>\n",
       "      <th>4</th>\n",
       "      <td>5</td>\n",
       "      <td>ROC (ROC)</td>\n",
       "      <td>20</td>\n",
       "      <td>28</td>\n",
       "      <td>23</td>\n",
       "      <td>71</td>\n",
       "    </tr>\n",
       "  </tbody>\n",
       "</table>\n",
       "</div>"
      ],
      "text/plain": [
       "  numero                   pais oro plata bronce total\n",
       "0      1   Estados Unidos (USA)  39    41     33   113\n",
       "1      2            China (CHN)  38    32     19    89\n",
       "2      3            Japón (JPN)  27    14     17    58\n",
       "3      4      Reino Unido (GBR)  22    20     22    64\n",
       "4      5              ROC (ROC)  20    28     23    71"
      ]
     },
     "execution_count": 3,
     "metadata": {},
     "output_type": "execute_result"
    }
   ],
   "source": [
    "df = sacar_medallero(\"https://es.wikipedia.org/wiki/Anexo:Medallero_de_los_Juegos_Ol%C3%ADmpicos_de_Tokio_2020\")\n",
    "df.head()"
   ]
  },
  {
   "cell_type": "code",
   "execution_count": null,
   "metadata": {},
   "outputs": [],
   "source": []
  }
 ],
 "metadata": {
  "kernelspec": {
   "display_name": "promoe",
   "language": "python",
   "name": "python3"
  },
  "language_info": {
   "codemirror_mode": {
    "name": "ipython",
    "version": 3
   },
   "file_extension": ".py",
   "mimetype": "text/x-python",
   "name": "python",
   "nbconvert_exporter": "python",
   "pygments_lexer": "ipython3",
   "version": "3.11.4"
  },
  "orig_nbformat": 4
 },
 "nbformat": 4,
 "nbformat_minor": 2
}

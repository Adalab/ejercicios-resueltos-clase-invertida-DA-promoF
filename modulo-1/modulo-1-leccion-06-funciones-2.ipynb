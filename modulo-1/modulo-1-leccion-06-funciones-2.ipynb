{
 "cells": [
  {
   "cell_type": "code",
   "execution_count": 1,
   "metadata": {},
   "outputs": [
    {
     "data": {
      "text/plain": [
       "'Hola, ¿cómo estás?'"
      ]
     },
     "execution_count": 1,
     "metadata": {},
     "output_type": "execute_result"
    }
   ],
   "source": [
    "# 1. Crea una función llamada concatenar que tome un número arbitrario de cadenas de texto como argumentos y devuelva una cadena de texto que sea la concatenación de todas ellas. \n",
    "\n",
    "def concatenar(*args):\n",
    "    # Se inicializa una variable llamada \"resultado\" como una cadena vacía.\n",
    "    resultado = \"\"\n",
    "    \n",
    "    # Se itera a través de cada texto en los argumentos proporcionados.\n",
    "    for texto in args:\n",
    "        # Se concatena cada texto a la variable \"resultado\".\n",
    "        resultado += texto\n",
    "    \n",
    "    # Finalmente, se retorna la cadena \"resultado\" que contiene la concatenación de todos los textos.\n",
    "    return resultado\n",
    "\n",
    "# Ejemplo de uso de la función:\n",
    "# Se llama a la función concatenar con tres cadenas como argumentos.\n",
    "# La función concatena estas cadenas en una sola cadena y devuelve el resultado.\n",
    "resultado = concatenar(\"Hola, \", \"¿cómo \", \"estás?\")\n"
   ]
  },
  {
   "cell_type": "code",
   "execution_count": 2,
   "metadata": {},
   "outputs": [
    {
     "data": {
      "text/plain": [
       "24"
      ]
     },
     "execution_count": 2,
     "metadata": {},
     "output_type": "execute_result"
    }
   ],
   "source": [
    "# 2. Crea una función que tome un número arbitrario de argumentos y devuelva el producto de todos ellos.\n",
    "\n",
    "def producto(*args):\n",
    "    # Se verifica si no se proporcionan argumentos (la lista de argumentos está vacía).\n",
    "    if not args:\n",
    "        # Si no se proporcionan argumentos, el producto es 1, por lo que se devuelve 1.\n",
    "        return 1\n",
    "    \n",
    "    # Se inicializa una variable llamada \"resultado\" en 1.\n",
    "    resultado = 1\n",
    "    \n",
    "    # Se itera a través de cada número en los argumentos proporcionados.\n",
    "    for numero in args:\n",
    "        # Se multiplica cada número con el valor actual de \"resultado\".\n",
    "        resultado *= numero\n",
    "    \n",
    "    # Finalmente, se retorna el valor de \"resultado\", que representa el producto de todos los números proporcionados.\n",
    "    return resultado\n",
    "\n",
    "# Ejemplo de uso de la función:\n",
    "# Se llama a la función producto con los números 2, 3 y 4 como argumentos.\n",
    "# La función calcula el producto de estos números y devuelve el resultado.\n",
    "resultado = producto(2, 3, 4)\n"
   ]
  },
  {
   "cell_type": "code",
   "execution_count": 3,
   "metadata": {},
   "outputs": [
    {
     "data": {
      "text/plain": [
       "5"
      ]
     },
     "execution_count": 3,
     "metadata": {},
     "output_type": "execute_result"
    }
   ],
   "source": [
    "# 3. Crea una función que tome un número arbitrario de diccionarios como argumentos y devuelva el valor mínimo entre todos los valores de los diccionarios.\n",
    "\n",
    "def minimo_valor(*args):\n",
    "    # Se crea una lista llamada \"valores\" para almacenar los valores de los diccionarios.\n",
    "    valores = []\n",
    "    \n",
    "    # Se itera a través de cada diccionario en los argumentos proporcionados.\n",
    "    for diccionario in args:\n",
    "        # Se extiende la lista \"valores\" con los valores (values) del diccionario actual.\n",
    "        valores.extend(diccionario.values())\n",
    "    \n",
    "    # Finalmente, se retorna el valor mínimo de la lista \"valores\".\n",
    "    return min(valores)\n",
    "\n",
    "# Ejemplo de uso de la función:\n",
    "# Se definen dos diccionarios, diccionario1 y diccionario2, que contienen valores numéricos.\n",
    "# Se llama a la función minimo_valor con estos diccionarios como argumentos.\n",
    "# La función encuentra el valor mínimo entre todos los valores de los diccionarios y lo devuelve como resultado.\n",
    "resultado = minimo_valor(diccionario1, diccionario2)\n"
   ]
  },
  {
   "cell_type": "code",
   "execution_count": 3,
   "metadata": {},
   "outputs": [
    {
     "data": {
      "text/plain": [
       "{0: [2, 23, 34], 1: [4, 45, 56], 2: [6, 67, 12]}"
      ]
     },
     "execution_count": 3,
     "metadata": {},
     "output_type": "execute_result"
    }
   ],
   "source": [
    "# 4. Crea una función llamada combinar_listas que tome un número arbitrario de listas y devuelva un diccionario donde las listas originales se combinan usando los índices como claves.\n",
    "\n",
    "# Definición de la función combinar_listas que toma un número variable de argumentos (*args), que son listas.\n",
    "def combinar_listas(*args):\n",
    "    # Se crea un diccionario llamado \"resultado\" para almacenar la combinación de las listas.\n",
    "    resultado = {}\n",
    "    \n",
    "    # Se calcula la longitud máxima entre las listas en los argumentos.\n",
    "    max_length = max(len(lista) for lista in args)\n",
    "    \n",
    "    # Se itera a través de los índices de 0 a max_length - 1.\n",
    "    for i in range(max_length):\n",
    "        # Se crea una lista que contiene elementos de las listas en los argumentos si el índice i está dentro de los límites de la lista.\n",
    "        resultado[i] = [lista[i] for lista in args if i < len(lista)]\n",
    "    \n",
    "    # Finalmente, se retorna el diccionario \"resultado\" que contiene la combinación de las listas.\n",
    "    return resultado\n",
    "\n",
    "# Ejemplo de uso de la función:\n",
    "# Se definen tres listas, lista1, lista2 y lista3, con diferentes longitudes.\n",
    "lista1 = [2,4,6]\n",
    "lista2 = [23, 45, 67]\n",
    "lista3 = [34, 56, 12]\n",
    "# Se llama a la función combinar_listas con estas listas como argumentos.\n",
    "# La función combina las listas en un diccionario, donde las claves son los índices y los valores son las listas combinadas.\n",
    "resultado = combinar_listas(lista1, lista2, lista3)\n",
    "resultado\n"
   ]
  },
  {
   "cell_type": "code",
   "execution_count": 1,
   "metadata": {},
   "outputs": [
    {
     "data": {
      "text/plain": [
       "25"
      ]
     },
     "execution_count": 1,
     "metadata": {},
     "output_type": "execute_result"
    }
   ],
   "source": [
    "# 5. Crea una función que tome el tipo de figura geométrica (por ejemplo, \"cuadrado\", \"triángulo\", \"círculo\") como argumento de palabra clave y los argumentos necesarios para calcular el área de esa figura.\n",
    "# Importamos el módulo math para usar la constante math.pi.\n",
    "import math\n",
    "\n",
    "# Definición de la función area_figura que toma un conjunto de argumentos con nombre (**kwargs).\n",
    "def area_figura(**kwargs):\n",
    "    # Se obtiene el valor del argumento con nombre \"tipo\" de kwargs.\n",
    "    tipo = kwargs.get(\"tipo\")\n",
    "    \n",
    "    if tipo == \"cuadrado\":\n",
    "        # Si el tipo es \"cuadrado\", se obtiene el valor del argumento con nombre \"lado\".\n",
    "        lado = kwargs.get(\"lado\")\n",
    "        # Se calcula el área del cuadrado y se devuelve.\n",
    "        return lado ** 2\n",
    "    \n",
    "    elif tipo == \"triangulo\":\n",
    "        # Si el tipo es \"triangulo\", se obtienen los valores de los argumentos con nombre \"base\" y \"altura\".\n",
    "        base = kwargs.get(\"base\")\n",
    "        altura = kwargs.get(\"altura\")\n",
    "        # Se calcula el área del triángulo y se devuelve.\n",
    "        return (base * altura) / 2\n",
    "    \n",
    "    elif tipo == \"circulo\":\n",
    "        # Si el tipo es \"circulo\", se obtiene el valor del argumento con nombre \"radio\".\n",
    "        radio = kwargs.get(\"radio\")\n",
    "        # Se calcula el área del círculo y se devuelve.\n",
    "        return math.pi * radio ** 2\n",
    "    \n",
    "    else:\n",
    "        # Si el tipo no coincide con ninguna figura, se devuelve None.\n",
    "        return None\n",
    "\n",
    "# Ejemplo de uso de la función:\n",
    "# Se llama a la función area_figura con el tipo \"cuadrado\" y el valor del lado como argumentos con nombre.\n",
    "# La función calcula el\n",
    "\n"
   ]
  },
  {
   "cell_type": "code",
   "execution_count": 2,
   "metadata": {},
   "outputs": [
    {
     "data": {
      "text/plain": [
       "'Receta: Pastel de Chocolate\\n\\nIngredientes:\\n- 200g de chocolate\\n- 150g de harina\\n- 100g de azúcar\\n\\nPasos:\\n1. Mezclar el chocolate con la harina.\\n2. Agregar el azúcar y mezclar bien.'"
      ]
     },
     "execution_count": 2,
     "metadata": {},
     "output_type": "execute_result"
    }
   ],
   "source": [
    "# 6. Crea una función llamada receta_cocina que tome argumentos de palabra clave para los ingredientes y pasos de una receta y devuelva una descripción completa de la receta.\n",
    "\n",
    "def receta_cocina(**kwargs):\n",
    "    # Se obtiene el valor del argumento con nombre \"nombre_receta\" y se utiliza para crear el encabezado de la receta.\n",
    "    receta = f\"Receta: {kwargs.get('nombre_receta')}\\n\\nIngredientes:\\n\"\n",
    "    \n",
    "    # Se obtiene el valor del argumento con nombre \"ingredientes\" (un diccionario) y se itera a través de sus elementos para listar los ingredientes y cantidades.\n",
    "    for ingrediente, cantidad in kwargs.get('ingredientes', {}).items():\n",
    "        receta += f\"- {cantidad} de {ingrediente}\\n\"\n",
    "    \n",
    "    # Se agrega una sección de \"Pasos\" a la receta, utilizando el valor del argumento con nombre \"pasos\".\n",
    "    receta += \"\\nPasos:\\n\"\n",
    "    receta += kwargs.get('pasos', \"\")\n",
    "    \n",
    "    # Finalmente, se retorna la receta completa como una cadena.\n",
    "    return receta\n",
    "\n",
    "# Ejemplo de uso de la función:\n",
    "# Se crea un diccionario llamado \"mi_receta\" con información sobre una receta de pastel de chocolate.\n",
    "# Se llama a la función receta_cocina con los argumentos proporcionados en el diccionario.\n",
    "# La función crea una receta y la devuelve como una cadena.\n",
    "mi_receta = {\n",
    "    \"nombre_receta\": \"Pastel de Chocolate\",\n",
    "    \"ingredientes\": {\"chocolate\": \"200g\", \"harina\": \"150g\", \"azúcar\": \"100g\"},\n",
    "    \"pasos\": \"1. Mezclar el chocolate con la harina.\\n2. Agregar el azúcar y mezclar bien.\"\n",
    "}\n",
    "resultado = receta_cocina(**mi_receta)\n"
   ]
  },
  {
   "cell_type": "code",
   "execution_count": 3,
   "metadata": {},
   "outputs": [
    {
     "data": {
      "text/plain": [
       "'Ingresos: $50000\\nGastos: $35000\\nBalance: $15000'"
      ]
     },
     "execution_count": 3,
     "metadata": {},
     "output_type": "execute_result"
    }
   ],
   "source": [
    "# 7. Crea una función que tome argumentos de palabra clave para los ingresos y gastos de una empresa y genere un informe financiero. Resyelvelo con *kwargs*. \n",
    "\n",
    "def informe_financiero(**kwargs):\n",
    "    # Se obtiene el valor del argumento con nombre \"ingresos\" y \"gastos\", con un valor predeterminado de 0 si no se proporcionan.\n",
    "    ingresos = kwargs.get(\"ingresos\", 0)\n",
    "    gastos = kwargs.get(\"gastos\", 0)\n",
    "    \n",
    "    # Se calcula el balance restando los gastos de los ingresos.\n",
    "    balance = ingresos - gastos\n",
    "    \n",
    "    # Se crea un informe financiero que incluye ingresos, gastos y el balance.\n",
    "    informe = f\"Ingresos: ${ingresos}\\nGastos: ${gastos}\\nBalance: ${balance}\"\n",
    "    \n",
    "    # Finalmente, se retorna el informe como una cadena.\n",
    "    return informe\n",
    "\n",
    "# Ejemplo de uso de la función:\n",
    "# Se llama a la función informe_financiero con los valores de ingresos y gastos proporcionados como argumentos con nombre.\n",
    "# La función calcula el balance y crea un informe financiero que se devuelve como una cadena.\n",
    "resultado = informe_financiero(ingresos=50000, gastos=35000)\n"
   ]
  },
  {
   "cell_type": "code",
   "execution_count": null,
   "metadata": {},
   "outputs": [],
   "source": []
  }
 ],
 "metadata": {
  "kernelspec": {
   "display_name": "promoe",
   "language": "python",
   "name": "python3"
  },
  "language_info": {
   "codemirror_mode": {
    "name": "ipython",
    "version": 3
   },
   "file_extension": ".py",
   "mimetype": "text/x-python",
   "name": "python",
   "nbconvert_exporter": "python",
   "pygments_lexer": "ipython3",
   "version": "3.11.4"
  },
  "orig_nbformat": 4
 },
 "nbformat": 4,
 "nbformat_minor": 2
}

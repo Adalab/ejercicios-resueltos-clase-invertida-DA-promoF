{
 "cells": [
  {
   "cell_type": "code",
   "execution_count": 1,
   "metadata": {},
   "outputs": [
    {
     "name": "stdout",
     "output_type": "stream",
     "text": [
      "Vehículo: XYZ Modelo A, Año: 2020\n",
      "El vehículo se ha encendido.\n",
      "El vehículo aceleró a 50 km/h.\n",
      "El vehículo se ha detenido completamente.\n",
      "El vehículo se ha apagado.\n"
     ]
    }
   ],
   "source": [
    "class Vehiculo:\n",
    "    def __init__(self, marca, modelo, año):\n",
    "        self.marca = marca\n",
    "        self.modelo = modelo\n",
    "        self.año = año\n",
    "        self.velocidad_actual = 0\n",
    "        self.encendido = False\n",
    "\n",
    "    def informacion(self):\n",
    "        return f\"Vehículo: {self.marca} {self.modelo}, Año: {self.año}\"\n",
    "\n",
    "    def encender(self):\n",
    "        if not self.encendido:\n",
    "            self.encendido = True\n",
    "            return \"El vehículo se ha encendido.\"\n",
    "        else:\n",
    "            return \"El vehículo ya está encendido.\"\n",
    "\n",
    "    def apagar(self):\n",
    "        if self.encendido:\n",
    "            self.encendido = False\n",
    "            self.velocidad_actual = 0\n",
    "            return \"El vehículo se ha apagado.\"\n",
    "        else:\n",
    "            return \"El vehículo ya está apagado.\"\n",
    "\n",
    "    def acelerar(self, velocidad):\n",
    "        if self.encendido:\n",
    "            self.velocidad_actual += velocidad\n",
    "            return f\"El vehículo aceleró a {self.velocidad_actual} km/h.\"\n",
    "        else:\n",
    "            return \"No se puede acelerar, el vehículo está apagado.\"\n",
    "\n",
    "    def frenar(self, velocidad):\n",
    "        if self.encendido:\n",
    "            self.velocidad_actual -= velocidad\n",
    "            if self.velocidad_actual < 0:\n",
    "                self.velocidad_actual = 0\n",
    "            return f\"El vehículo frenó a {self.velocidad_actual} km/h.\"\n",
    "        else:\n",
    "            return \"No se puede frenar, el vehículo está apagado.\"\n",
    "\n",
    "    def detener(self):\n",
    "        if self.encendido:\n",
    "            while self.velocidad_actual > 0:\n",
    "                self.frenar(5)  # Reducir la velocidad gradualmente\n",
    "            return \"El vehículo se ha detenido completamente.\"\n",
    "        else:\n",
    "            return \"No se puede detener, el vehículo está apagado.\"\n",
    "\n",
    "# Crea una instancia de Vehiculo\n",
    "vehiculo_generico = Vehiculo(\"XYZ\", \"Modelo A\", 2020)\n",
    "\n",
    "# Muestra la información del vehículo\n",
    "print(vehiculo_generico.informacion())\n",
    "\n",
    "# Enciende el vehículo\n",
    "print(vehiculo_generico.encender())\n",
    "\n",
    "# Acelera el vehículo\n",
    "print(vehiculo_generico.acelerar(50))\n",
    "\n",
    "# Detiene el vehículo\n",
    "print(vehiculo_generico.detener())\n",
    "\n",
    "# Apaga el vehículo\n",
    "print(vehiculo_generico.apagar())\n"
   ]
  },
  {
   "cell_type": "code",
   "execution_count": 2,
   "metadata": {},
   "outputs": [
    {
     "name": "stdout",
     "output_type": "stream",
     "text": [
      "Coche: ABC Sedán B, Año: 2022, Combustible: Gasolina\n",
      "El vehículo se ha encendido.\n",
      "El vehículo aceleró a 50 km/h.\n",
      "El vehículo se ha detenido completamente.\n",
      "El vehículo se ha apagado.\n"
     ]
    }
   ],
   "source": [
    "# Crear una subclase Coche que hereda de Vehiculo\n",
    "class Coche(Vehiculo):\n",
    "    def __init__(self, marca, modelo, año, combustible):\n",
    "        super().__init__(marca, modelo, año)\n",
    "        self.combustible = combustible\n",
    "\n",
    "    def informacion(self):\n",
    "        return f\"Coche: {self.marca} {self.modelo}, Año: {self.año}, Combustible: {self.combustible}\"\n",
    "\n",
    "# Crear una instancia de Coche\n",
    "coche_especifico = Coche(\"ABC\", \"Sedán B\", 2022, \"Gasolina\")\n",
    "\n",
    "# Muestra la información del coche\n",
    "print(coche_especifico.informacion())\n",
    "\n",
    "# Enciende el coche\n",
    "print(coche_especifico.encender())\n",
    "\n",
    "# Acelera el coche\n",
    "print(coche_especifico.acelerar(50))\n",
    "\n",
    "# Detiene el coche\n",
    "print(coche_especifico.detener())\n",
    "\n",
    "# Apaga el coche\n",
    "print(coche_especifico.apagar())"
   ]
  },
  {
   "cell_type": "code",
   "execution_count": null,
   "metadata": {},
   "outputs": [],
   "source": []
  }
 ],
 "metadata": {
  "kernelspec": {
   "display_name": "promoe",
   "language": "python",
   "name": "python3"
  },
  "language_info": {
   "codemirror_mode": {
    "name": "ipython",
    "version": 3
   },
   "file_extension": ".py",
   "mimetype": "text/x-python",
   "name": "python",
   "nbconvert_exporter": "python",
   "pygments_lexer": "ipython3",
   "version": "3.10.11"
  },
  "orig_nbformat": 4
 },
 "nbformat": 4,
 "nbformat_minor": 2
}

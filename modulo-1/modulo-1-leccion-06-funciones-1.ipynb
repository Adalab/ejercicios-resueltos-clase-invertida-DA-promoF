{
 "cells": [
  {
   "cell_type": "code",
   "execution_count": 1,
   "metadata": {},
   "outputs": [],
   "source": [
    "#  1. Escribir una función que reciba una cadena de texto como parámetro y devuelva un diccionario con las frecuencias de cada letra en la cadena.\n",
    "\n",
    "def contar_letras(string):\n",
    "    # Se crea un diccionario vacío para almacenar las letras y su conteo.\n",
    "    diccionario_letras = {}\n",
    "    \n",
    "    # Se itera a través de cada letra en el string.\n",
    "    for letra in string:\n",
    "        # Se verifica si la letra ya existe en el diccionario o si es un espacio en blanco.\n",
    "        if letra in diccionario_letras.keys() or letra == \" \":\n",
    "            # Si la letra ya existe en el diccionario o es un espacio en blanco, no se hace nada.\n",
    "            pass\n",
    "        else:\n",
    "            # Si la letra no existe en el diccionario y no es un espacio en blanco,\n",
    "            # se cuenta cuántas veces aparece en el string original y se almacena en el diccionario.\n",
    "            diccionario_letras[letra] = string.count(letra)\n",
    "    \n",
    "    # Finalmente, se retorna el diccionario que contiene el conteo de las letras.\n",
    "    return diccionario_letras\n"
   ]
  },
  {
   "cell_type": "code",
   "execution_count": 5,
   "metadata": {},
   "outputs": [
    {
     "data": {
      "text/plain": [
       "{'H': 1, 'o': 1, 'l': 1, 'a': 1}"
      ]
     },
     "execution_count": 5,
     "metadata": {},
     "output_type": "execute_result"
    }
   ],
   "source": [
    "contar_letras(\"Hola\")"
   ]
  },
  {
   "cell_type": "code",
   "execution_count": 6,
   "metadata": {},
   "outputs": [
    {
     "data": {
      "text/plain": [
       "{'H': 1, 'o': 2, 'l': 2, 'a': 4, 'c': 2, 'r': 1}"
      ]
     },
     "execution_count": 6,
     "metadata": {},
     "output_type": "execute_result"
    }
   ],
   "source": [
    "contar_letras(\"Hola caracola\")"
   ]
  },
  {
   "cell_type": "code",
   "execution_count": 8,
   "metadata": {},
   "outputs": [],
   "source": [
    "# 2. Escribir una función que reciba una cadena de texto como parámetro y devuelva una lista con todas las palabras que tienen más de 5 letras.\n",
    "\n",
    "def contar_palabras(string):\n",
    "    # Se divide el string en una lista de palabras utilizando espacios en blanco como separadores.\n",
    "    lista_palabras = string.split()\n",
    "    \n",
    "    # Se crea una lista vacía para almacenar las palabras que tienen 5 o más caracteres.\n",
    "    lista_resultado = []\n",
    "    \n",
    "    # Se itera a través de cada palabra en la lista de palabras.\n",
    "    for palabra in lista_palabras:\n",
    "        # Se verifica si la longitud de la palabra es mayor o igual a 5.\n",
    "        if len(palabra) >= 5:\n",
    "            # Si la palabra tiene 5 o más caracteres, se agrega a la lista de resultados.\n",
    "            lista_resultado.append(palabra)\n",
    "        else:\n",
    "            # Si la palabra tiene menos de 5 caracteres, no se hace nada.\n",
    "            pass\n",
    "    \n",
    "    # Finalmente, se retorna la lista de palabras que tienen 5 o más caracteres.\n",
    "    return lista_resultado\n",
    "\n"
   ]
  },
  {
   "cell_type": "code",
   "execution_count": 9,
   "metadata": {},
   "outputs": [
    {
     "data": {
      "text/plain": [
       "['Buenos', 'estas']"
      ]
     },
     "execution_count": 9,
     "metadata": {},
     "output_type": "execute_result"
    }
   ],
   "source": [
    "contar_palabras(\"Buenos dias como estas\")"
   ]
  },
  {
   "cell_type": "code",
   "execution_count": 10,
   "metadata": {},
   "outputs": [
    {
     "data": {
      "text/plain": [
       "['Estoy', 'comiendo', 'cocido']"
      ]
     },
     "execution_count": 10,
     "metadata": {},
     "output_type": "execute_result"
    }
   ],
   "source": [
    "contar_palabras(\"Estoy comiendo cocido\")"
   ]
  },
  {
   "cell_type": "code",
   "execution_count": 12,
   "metadata": {},
   "outputs": [
    {
     "data": {
      "text/plain": [
       "['programación', 'bootcamp', 'hola', 'computadora', 'aprendizaje']"
      ]
     },
     "execution_count": 12,
     "metadata": {},
     "output_type": "execute_result"
    }
   ],
   "source": [
    "# 3. Escribir una función que reciba una lista de números como parámetro y devuelva el promedio de los números que están en posiciones pares de la lista.\n",
    "# Definir una función que filtre palabras con más de una vocal\n",
    "def palabras_con_mas_de_una_vocal(lista_de_palabras):\n",
    "    # Se crea una lista vacía llamada \"resultado\" para almacenar las palabras que cumplen con el criterio.\n",
    "    resultado = []\n",
    "    \n",
    "    # Se itera a través de cada palabra en la lista_de_palabras.\n",
    "    for palabra in lista_de_palabras:\n",
    "        # Se inicializa un contador para contar las vocales en la palabra.\n",
    "        contador_vocales = 0\n",
    "        \n",
    "        # Se itera a través de cada letra en la palabra.\n",
    "        for letra in palabra:\n",
    "            # Se verifica si la letra (en minúsculas) está en el conjunto de vocales \"aeiou\".\n",
    "            if letra.lower() in \"aeiou\":\n",
    "                contador_vocales += 1\n",
    "        \n",
    "        # Si la palabra tiene más de una vocal, se agrega a la lista \"resultado\".\n",
    "        if contador_vocales > 1:\n",
    "            resultado.append(palabra)\n",
    "    \n",
    "    # Finalmente, se retorna la lista de palabras que tienen más de una vocal.\n",
    "    return resultado\n",
    "\n",
    "# Se crea una lista de palabras llamada \"palabras\".\n",
    "palabras = [\"python\", \"programación\", \"bootcamp\", \"hola\", \"computadora\", \"aprendizaje\"]\n",
    "\n",
    "# Se llama a la función palabras_con_mas_de_una_vocal con la lista de palabras como argumento.\n",
    "# La función devuelve una lista con las palabras que cumplen con el criterio.\n",
    "resultado = palabras_con_mas_de_una_vocal(palabras)\n",
    "\n"
   ]
  },
  {
   "cell_type": "code",
   "execution_count": 13,
   "metadata": {},
   "outputs": [
    {
     "data": {
      "text/plain": [
       "30"
      ]
     },
     "execution_count": 13,
     "metadata": {},
     "output_type": "execute_result"
    }
   ],
   "source": [
    "# 4. Crea una función que tome una lista de números y calcule la suma de todos los números pares en la lista.\n",
    "# Definir una función para calcular la suma de números pares\n",
    "\n",
    "def suma_numeros_pares(lista):\n",
    "    # Se inicializa una variable llamada \"suma\" en cero para almacenar la suma de los números pares.\n",
    "    suma = 0\n",
    "    \n",
    "    # Se itera a través de cada número en la lista.\n",
    "    for numero in lista:\n",
    "        # Se verifica si el número es par, es decir, si su residuo al dividirlo por 2 es igual a cero.\n",
    "        if numero % 2 == 0:\n",
    "            # Si el número es par, se suma a la variable \"suma\".\n",
    "            suma += numero\n",
    "    \n",
    "    # Finalmente, se retorna el valor de \"suma\", que representa la suma de los números pares en la lista.\n",
    "    return suma\n",
    "\n",
    "# Ejemplo de uso de la función:\n",
    "# Se crea una lista de números llamada \"numeros\".\n",
    "numeros = [1, 2, 3, 4, 5, 6, 7, 8, 9, 10]\n",
    "\n",
    "# Se llama a la función suma_numeros_pares con la lista de números como argumento.\n",
    "# La función devuelve la suma de los números pares en la lista.\n",
    "resultado = suma_numeros_pares(numeros)\n"
   ]
  },
  {
   "cell_type": "code",
   "execution_count": 14,
   "metadata": {},
   "outputs": [
    {
     "data": {
      "text/plain": [
       "11.666666666666666"
      ]
     },
     "execution_count": 14,
     "metadata": {},
     "output_type": "execute_result"
    }
   ],
   "source": [
    "# 5. Escribe una función que tome una lista de números como entrada y calcule el promedio de esos números.\n",
    "\n",
    "def calcular_promedio(lista):\n",
    "    # Se verifica si la lista está vacía (no tiene elementos).\n",
    "    if len(lista) == 0:\n",
    "        # Si la lista está vacía, se devuelve 0 como resultado para evitar la división por cero.\n",
    "        return 0\n",
    "    \n",
    "    # Se calcula la suma de todos los números en la lista utilizando la función sum().\n",
    "    suma = sum(lista)\n",
    "    \n",
    "    # Se calcula el promedio dividiendo la suma entre la cantidad de elementos en la lista.\n",
    "    promedio = suma / len(lista)\n",
    "    \n",
    "    # Finalmente, se retorna el valor del promedio.\n",
    "    return promedio\n",
    "\n",
    "# Ejemplo de uso de la función:\n",
    "# Se crea una lista de números llamada \"numeros\".\n",
    "numeros = [12, 15, 20, 10, 8, 5]\n",
    "\n",
    "# Se llama a la función calcular_promedio con la lista de números como argumento.\n",
    "# La función devuelve el promedio de los números en la lista.\n",
    "resultado = calcular_promedio(numeros)\n"
   ]
  },
  {
   "cell_type": "code",
   "execution_count": 1,
   "metadata": {},
   "outputs": [
    {
     "data": {
      "text/plain": [
       "1890"
      ]
     },
     "execution_count": 1,
     "metadata": {},
     "output_type": "execute_result"
    }
   ],
   "source": [
    "# 6. Crea una función que determine el próximo año en el que las cifras del año de tu cumpleaños no se repitan. La función toma un año de tu cumpleaños como entrada y calcula el próximo año en el que las cifras no se repitan, es decir, todas las cifras en el año son diferentes entre sí.\n",
    "def cumpleaños(año):\n",
    "    # Se inicializa una variable llamada \"felicidades\" con el valor del año incrementado en 1.\n",
    "    felicidades = año + 1\n",
    "    \n",
    "    # Se inicia un bucle while que se ejecuta mientras el número de dígitos distintos en \"felicidades\" no sea igual a 4.\n",
    "    while len(set(str(felicidades))) != 4:\n",
    "        # En cada iteración, se incrementa \"felicidades\" en 1.\n",
    "        felicidades += 1\n",
    "    \n",
    "    # Cuando se cumple la condición del bucle, se retorna el valor de \"felicidades\".\n",
    "    return felicidades\n",
    "\n",
    "# Ejemplo de uso de la función:\n",
    "# Se llama a la función cumpleaños con el año 1889 como argumento.\n",
    "# La función encuentra el siguiente año en el que todos los dígitos son distintos y lo devuelve como resultado.\n",
    "resultado = cumpleaños(1889)\n"
   ]
  },
  {
   "cell_type": "code",
   "execution_count": 2,
   "metadata": {},
   "outputs": [
    {
     "data": {
      "text/plain": [
       "2"
      ]
     },
     "execution_count": 2,
     "metadata": {},
     "output_type": "execute_result"
    }
   ],
   "source": [
    "# 7. Crea una función que determine cuántos pasteles puedes hornear según una receta y los ingredientes disponibles. La función toma dos diccionarios como entrada: receta, que contiene los ingredientes necesarios para un pastel, y disponible, que contiene la cantidad disponible de cada ingrediente. Sus parámetros de entrada son: \n",
    "\n",
    "def pasteles(receta, disponible):\n",
    "    # Se crea una lista llamada \"numero\" para almacenar el número mínimo de pasteles que se pueden hacer con los ingredientes disponibles.\n",
    "    numero = []\n",
    "    \n",
    "    # Se itera a través de cada ingrediente en la receta.\n",
    "    for ingrediente in receta:\n",
    "        # Se verifica si el ingrediente de la receta no está en la lista de ingredientes disponibles.\n",
    "        if ingrediente not in disponible:\n",
    "            # Si falta algún ingrediente en la lista de disponibles, no se pueden hacer pasteles, por lo que se devuelve 0.\n",
    "            return 0\n",
    "        else:\n",
    "            # Si el ingrediente está disponible, se calcula cuántas veces cabe en la cantidad disponible y se agrega a la lista \"numero\".\n",
    "            numero.append(disponible[ingrediente] // receta[ingrediente])\n",
    "    \n",
    "    # Finalmente, se retorna el mínimo de los valores en la lista \"numero\", que representa el número mínimo de pasteles que se pueden hacer.\n",
    "    return min(numero)\n",
    "\n",
    "# Ejemplo de uso de la función:\n",
    "# Se definen dos diccionarios, receta1 y ingredientes1, que representan una receta y los ingredientes disponibles.\n",
    "# Se llama a la función pasteles con estos argumentos para calcular el número mínimo de pasteles que se pueden hacer.\n",
    "resultado = pasteles(receta1, ingredientes1)\n"
   ]
  },
  {
   "cell_type": "code",
   "execution_count": 15,
   "metadata": {},
   "outputs": [
    {
     "data": {
      "text/plain": [
       "[0, 1, 1, 2, 3, 5, 8, 13, 21, 34]"
      ]
     },
     "execution_count": 15,
     "metadata": {},
     "output_type": "execute_result"
    }
   ],
   "source": [
    "# 8. Crea una función llamada fibonacci que tome un número n como argumento y devuelva una lista con los primeros n números de la serie Fibonacci.\n",
    "\n",
    "def fibonacci(n):\n",
    "    # Se inicia una lista llamada \"serie\" con los dos primeros números de la secuencia de Fibonacci.\n",
    "    serie = [0, 1]\n",
    "    \n",
    "    # Se inicia un bucle while que se ejecuta hasta que la longitud de la lista \"serie\" sea igual a n.\n",
    "    while len(serie) < n:\n",
    "        # Se calcula el siguiente número de la secuencia de Fibonacci sumando los dos números más recientes en la lista.\n",
    "        siguiente_numero = serie[-1] + serie[-2]\n",
    "        \n",
    "        # Se agrega el siguiente número a la lista \"serie\".\n",
    "        serie.append(siguiente_numero)\n",
    "    \n",
    "    # Finalmente, se retorna la lista \"serie\" que contiene los primeros n números de la secuencia de Fibonacci.\n",
    "    return serie\n",
    "\n",
    "# Ejemplo de uso de la función:\n",
    "# Se establece el valor de n como 10.\n",
    "n = 10\n",
    "\n",
    "# Se llama a la función fibonacci con n como argumento.\n",
    "# La función devuelve una lista con los primeros 10 números de la secuencia de Fibonacci.\n",
    "resultado = fibonacci(n)\n"
   ]
  },
  {
   "cell_type": "code",
   "execution_count": null,
   "metadata": {},
   "outputs": [],
   "source": []
  }
 ],
 "metadata": {
  "kernelspec": {
   "display_name": "Python 3",
   "language": "python",
   "name": "python3"
  },
  "language_info": {
   "codemirror_mode": {
    "name": "ipython",
    "version": 3
   },
   "file_extension": ".py",
   "mimetype": "text/x-python",
   "name": "python",
   "nbconvert_exporter": "python",
   "pygments_lexer": "ipython3",
   "version": "3.11.4"
  },
  "orig_nbformat": 4
 },
 "nbformat": 4,
 "nbformat_minor": 2
}

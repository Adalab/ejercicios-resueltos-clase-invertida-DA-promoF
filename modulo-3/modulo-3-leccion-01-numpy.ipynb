{
 "cells": [
  {
   "cell_type": "code",
   "execution_count": 1,
   "metadata": {},
   "outputs": [],
   "source": [
    "import numpy as np"
   ]
  },
  {
   "cell_type": "markdown",
   "metadata": {},
   "source": [
    "\n",
    "1.  Genera un *array* bidimensional de 4 x 3 con valores aleatorios enteros entre el 34 y el 98. Una vez creado cada array comprueba las dimensiones y los tipos de datos que tenemos en el array. "
   ]
  },
  {
   "cell_type": "code",
   "execution_count": 3,
   "metadata": {},
   "outputs": [
    {
     "data": {
      "text/plain": [
       "array([[56, 95, 97],\n",
       "       [83, 57, 51],\n",
       "       [36, 97, 38],\n",
       "       [91, 57, 64]])"
      ]
     },
     "execution_count": 3,
     "metadata": {},
     "output_type": "execute_result"
    }
   ],
   "source": [
    "a_bidimensional = np.random.randint(34, 98, (4,3))\n",
    "a_bidimensional"
   ]
  },
  {
   "cell_type": "code",
   "execution_count": 4,
   "metadata": {},
   "outputs": [
    {
     "data": {
      "text/plain": [
       "2"
      ]
     },
     "execution_count": 4,
     "metadata": {},
     "output_type": "execute_result"
    }
   ],
   "source": [
    "a_bidimensional.ndim"
   ]
  },
  {
   "cell_type": "code",
   "execution_count": 5,
   "metadata": {},
   "outputs": [
    {
     "data": {
      "text/plain": [
       "dtype('int64')"
      ]
     },
     "execution_count": 5,
     "metadata": {},
     "output_type": "execute_result"
    }
   ],
   "source": [
    "a_bidimensional.dtype"
   ]
  },
  {
   "cell_type": "markdown",
   "metadata": {},
   "source": [
    "2. Crea tres *arrays* (unidimensional, bidimensional y multidimensional) usando el método `np.array()`. \n",
    "\n",
    "    Las listas para crear los *arrays* son las siguientes\n",
    "\n",
    "    ```python\n",
    "    lista1 = [34,56,71,98, 10]\n",
    "    lista2 = [[23,45,89, 56], [12,43,82,44]]\n",
    "    lista3 = [[[1,2,3],[1,2,3],[1,2,3]]]\n",
    "    ```\n",
    "\n",
    "    **Bonus** Haz una pequeña descripción de cada *array* usando los métodos de exploración de *arrays* que hemos aprendido"
   ]
  },
  {
   "cell_type": "code",
   "execution_count": 6,
   "metadata": {},
   "outputs": [],
   "source": [
    "lista1 = [34,56,71,98, 10]\n",
    "lista2 = [[23,45,89, 56], [12,43,82,44]]\n",
    "lista3 = [[[1,2,3],[1,2,3],[1,2,3]]]"
   ]
  },
  {
   "cell_type": "code",
   "execution_count": 7,
   "metadata": {},
   "outputs": [],
   "source": [
    "a1 = np.array(lista1)\n",
    "a2 = np.array(lista2)\n",
    "a3 = np.array(lista3)\n",
    "\n",
    "def caracteristicas_array(array):\n",
    "    print(\"Las dimensiones del array son:\")\n",
    "    print(array.ndim)\n",
    "    print(\"------------------\")\n",
    "    \n",
    "    print(\"El tipo de datos del array es:\")\n",
    "    print(array.dtype)\n",
    "    print(\"------------------\")\n",
    "    \n",
    "    print(\"La forma del array es:\")\n",
    "    print(array.shape)\n",
    "    print(\"------------------\")\n",
    "    \n",
    "    print(\"El tamaño del array es:\")\n",
    "    print(array.size)\n",
    "    print(\"------------------\")"
   ]
  },
  {
   "cell_type": "code",
   "execution_count": 8,
   "metadata": {},
   "outputs": [
    {
     "name": "stdout",
     "output_type": "stream",
     "text": [
      "Las dimensiones del array son:\n",
      "1\n",
      "------------------\n",
      "El tipo de datos del array es:\n",
      "int64\n",
      "------------------\n",
      "La forma del array es:\n",
      "(5,)\n",
      "------------------\n",
      "El tamaño del array es:\n",
      "5\n",
      "------------------\n"
     ]
    }
   ],
   "source": [
    "caracteristicas_array(a1)"
   ]
  },
  {
   "cell_type": "code",
   "execution_count": 9,
   "metadata": {},
   "outputs": [
    {
     "name": "stdout",
     "output_type": "stream",
     "text": [
      "Las dimensiones del array son:\n",
      "2\n",
      "------------------\n",
      "El tipo de datos del array es:\n",
      "int64\n",
      "------------------\n",
      "La forma del array es:\n",
      "(2, 4)\n",
      "------------------\n",
      "El tamaño del array es:\n",
      "8\n",
      "------------------\n"
     ]
    }
   ],
   "source": [
    "caracteristicas_array(a2)"
   ]
  },
  {
   "cell_type": "code",
   "execution_count": 10,
   "metadata": {},
   "outputs": [
    {
     "name": "stdout",
     "output_type": "stream",
     "text": [
      "Las dimensiones del array son:\n",
      "3\n",
      "------------------\n",
      "El tipo de datos del array es:\n",
      "int64\n",
      "------------------\n",
      "La forma del array es:\n",
      "(1, 3, 3)\n",
      "------------------\n",
      "El tamaño del array es:\n",
      "9\n",
      "------------------\n"
     ]
    }
   ],
   "source": [
    "caracteristicas_array(a3)"
   ]
  },
  {
   "cell_type": "markdown",
   "metadata": {},
   "source": [
    "3. Crea un *array* de todo 0 con tres dimensiones\n",
    "\n",
    "    Explica el array:\n",
    "    - ¿Cuántas dimensiones hay? \n",
    "    - ¿Qué tamaño tiene?\n",
    "    - ¿Qué forma tiene?\n"
   ]
  },
  {
   "cell_type": "code",
   "execution_count": 14,
   "metadata": {},
   "outputs": [
    {
     "data": {
      "text/plain": [
       "array([[[0., 0., 0., 0.],\n",
       "        [0., 0., 0., 0.],\n",
       "        [0., 0., 0., 0.]],\n",
       "\n",
       "       [[0., 0., 0., 0.],\n",
       "        [0., 0., 0., 0.],\n",
       "        [0., 0., 0., 0.]]])"
      ]
     },
     "execution_count": 14,
     "metadata": {},
     "output_type": "execute_result"
    }
   ],
   "source": [
    "a_ceros_tri = np.zeros((2,3,4))\n",
    "a_ceros_tri"
   ]
  },
  {
   "cell_type": "code",
   "execution_count": 15,
   "metadata": {},
   "outputs": [
    {
     "name": "stdout",
     "output_type": "stream",
     "text": [
      "Las dimensiones del array son:\n",
      "3\n",
      "------------------\n",
      "El tipo de datos del array es:\n",
      "float64\n",
      "------------------\n",
      "La forma del array es:\n",
      "(2, 3, 4)\n",
      "------------------\n",
      "El tamaño del array es:\n",
      "24\n",
      "------------------\n"
     ]
    }
   ],
   "source": [
    "caracteristicas_array(a_ceros_tri)"
   ]
  },
  {
   "cell_type": "markdown",
   "metadata": {},
   "source": [
    "4. Crea un *array* vacío de 2 x 5 X 4. \n",
    "\n",
    "    - ¿Qué valores nos han salido en el *array*?  \n",
    "\n",
    "    - ¿Por qué nos salen esos valores? "
   ]
  },
  {
   "cell_type": "code",
   "execution_count": 16,
   "metadata": {},
   "outputs": [
    {
     "data": {
      "text/plain": [
       "array([[[ 1.61132910e-316,  0.00000000e+000,  1.38338381e-321,\n",
       "         -1.15293361e+277],\n",
       "        [ 1.63352819e-301,  3.82599592e-297,  7.46699287e-301,\n",
       "          2.50789587e-292],\n",
       "        [ 1.86989321e-306,  1.07691062e-282,  1.34047036e-272,\n",
       "          1.63380945e-301],\n",
       "        [ 2.10053204e-301,  4.39683727e-003,  7.93544652e-301,\n",
       "          1.63358159e-301],\n",
       "        [ 2.38303345e-022,  1.63380946e-301,  5.01872752e-292,\n",
       "          3.02950552e-268]],\n",
       "\n",
       "       [[ 2.15384422e-282,  2.76059428e+055,  2.49431817e-306,\n",
       "          5.21013085e-296],\n",
       "        [ 3.29099727e-287,  9.53817931e-292,  2.38974292e-253,\n",
       "          2.58046964e-263],\n",
       "        [ 7.02484925e-292,  1.56528437e-248,  3.50048627e-301,\n",
       "          5.57567129e-309],\n",
       "        [ 4.54292274e-268,  1.39863855e-309,  1.39255974e-309,\n",
       "          1.69239896e-258],\n",
       "        [ 1.75106013e-253, -2.34223104e-258,  4.23936054e-307,\n",
       "          0.00000000e+000]]])"
      ]
     },
     "execution_count": 16,
     "metadata": {},
     "output_type": "execute_result"
    }
   ],
   "source": [
    "a_vacio = np.empty((2,5,4))\n",
    "a_vacio"
   ]
  },
  {
   "cell_type": "markdown",
   "metadata": {},
   "source": [
    "5. En este ejercicio vamos a crear dos *arrays*:\n",
    "\n",
    "    - Un *array* tridimensional 5x2x3 con todos los valores iguales a 1.\n",
    "\n",
    "\n",
    "    - Un *array* tridimensional de 2 x 3 x 5  con números aleatorios entre 0-1\n"
   ]
  },
  {
   "cell_type": "code",
   "execution_count": 18,
   "metadata": {},
   "outputs": [
    {
     "data": {
      "text/plain": [
       "array([[[1., 1., 1.],\n",
       "        [1., 1., 1.]],\n",
       "\n",
       "       [[1., 1., 1.],\n",
       "        [1., 1., 1.]],\n",
       "\n",
       "       [[1., 1., 1.],\n",
       "        [1., 1., 1.]],\n",
       "\n",
       "       [[1., 1., 1.],\n",
       "        [1., 1., 1.]],\n",
       "\n",
       "       [[1., 1., 1.],\n",
       "        [1., 1., 1.]]])"
      ]
     },
     "execution_count": 18,
     "metadata": {},
     "output_type": "execute_result"
    }
   ],
   "source": [
    "a_tri_unos = np.ones((5,2,3))\n",
    "a_tri_unos"
   ]
  },
  {
   "cell_type": "code",
   "execution_count": 20,
   "metadata": {},
   "outputs": [
    {
     "data": {
      "text/plain": [
       "array([[[0.51418843, 0.70350504, 0.64807499, 0.78578542, 0.25395666],\n",
       "        [0.95544974, 0.42440717, 0.44693008, 0.19023966, 0.51637087],\n",
       "        [0.18441315, 0.5411937 , 0.09170949, 0.4796999 , 0.47114777]],\n",
       "\n",
       "       [[0.25630478, 0.91128477, 0.68363928, 0.14030859, 0.88196085],\n",
       "        [0.30662656, 0.54056464, 0.44800661, 0.61797851, 0.11481143],\n",
       "        [0.23662257, 0.87235313, 0.99467557, 0.78567244, 0.83913159]]])"
      ]
     },
     "execution_count": 20,
     "metadata": {},
     "output_type": "execute_result"
    }
   ],
   "source": [
    "a_tri_ale = np.random.rand(2,3,5)\n",
    "a_tri_ale"
   ]
  },
  {
   "cell_type": "code",
   "execution_count": 21,
   "metadata": {},
   "outputs": [
    {
     "ename": "ValueError",
     "evalue": "operands could not be broadcast together with shapes (2,3,5) (5,2,3) ",
     "output_type": "error",
     "traceback": [
      "\u001b[0;31m---------------------------------------------------------------------------\u001b[0m",
      "\u001b[0;31mValueError\u001b[0m                                Traceback (most recent call last)",
      "Cell \u001b[0;32mIn[21], line 2\u001b[0m\n\u001b[1;32m      1\u001b[0m \u001b[39m# no se pueden sumar dos arrays que no tienen la misma forma\u001b[39;00m\n\u001b[0;32m----> 2\u001b[0m a_tri_ale \u001b[39m+\u001b[39;49m a_tri_unos\n",
      "\u001b[0;31mValueError\u001b[0m: operands could not be broadcast together with shapes (2,3,5) (5,2,3) "
     ]
    }
   ],
   "source": [
    "# no se pueden sumar dos arrays que no tienen la misma forma\n",
    "a_tri_ale + a_tri_unos"
   ]
  },
  {
   "cell_type": "markdown",
   "metadata": {},
   "source": [
    "\n",
    "6. Crea un *array* unidimensional con 50 elementos con el método que prefieras y extrae: \n",
    "\n",
    "    - El primer elemento.\n",
    "\n",
    "\n",
    "    - Lo elementos que están en posición impar.\n",
    "\n",
    "\n",
    "    - Los cuatro primeros elementos.\n",
    "\n",
    "\n",
    "    - Los últimos tres elementos.\n",
    "\n",
    "\n",
    "    - Los elementos entre el 4 y el 8(incluido). "
   ]
  },
  {
   "cell_type": "code",
   "execution_count": 26,
   "metadata": {},
   "outputs": [
    {
     "data": {
      "text/plain": [
       "array([38, 38, 41, 36, 43, 42, 29, 27, 23, 26, 42, 37, 26, 30, 45, 47, 32,\n",
       "       45, 34, 36, 29, 36, 33, 36, 42, 29, 46, 42, 46, 46, 24, 31, 38, 40,\n",
       "       34, 43, 33, 27, 28, 39, 27, 45, 37, 43, 24, 41, 37, 37, 35, 23])"
      ]
     },
     "execution_count": 26,
     "metadata": {},
     "output_type": "execute_result"
    }
   ],
   "source": [
    "array_unidimensional = np.random.randint(23, 48, 50)\n",
    "array_unidimensional"
   ]
  },
  {
   "cell_type": "code",
   "execution_count": 27,
   "metadata": {},
   "outputs": [
    {
     "data": {
      "text/plain": [
       "38"
      ]
     },
     "execution_count": 27,
     "metadata": {},
     "output_type": "execute_result"
    }
   ],
   "source": [
    "array_unidimensional[0]"
   ]
  },
  {
   "cell_type": "code",
   "execution_count": 28,
   "metadata": {},
   "outputs": [
    {
     "data": {
      "text/plain": [
       "array([38, 36, 42, 27, 26, 37, 30, 47, 45, 36, 36, 36, 29, 42, 46, 31, 40,\n",
       "       43, 27, 39, 45, 43, 41, 37, 23])"
      ]
     },
     "execution_count": 28,
     "metadata": {},
     "output_type": "execute_result"
    }
   ],
   "source": [
    "array_unidimensional[1::2]"
   ]
  },
  {
   "cell_type": "code",
   "execution_count": 29,
   "metadata": {},
   "outputs": [
    {
     "data": {
      "text/plain": [
       "array([38, 38, 41, 36])"
      ]
     },
     "execution_count": 29,
     "metadata": {},
     "output_type": "execute_result"
    }
   ],
   "source": [
    "array_unidimensional[:4]"
   ]
  },
  {
   "cell_type": "code",
   "execution_count": 30,
   "metadata": {},
   "outputs": [
    {
     "data": {
      "text/plain": [
       "array([37, 35, 23])"
      ]
     },
     "execution_count": 30,
     "metadata": {},
     "output_type": "execute_result"
    }
   ],
   "source": [
    "array_unidimensional[-3:]"
   ]
  },
  {
   "cell_type": "code",
   "execution_count": 31,
   "metadata": {},
   "outputs": [
    {
     "data": {
      "text/plain": [
       "array([43, 42, 29, 27, 23])"
      ]
     },
     "execution_count": 31,
     "metadata": {},
     "output_type": "execute_result"
    }
   ],
   "source": [
    "array_unidimensional[4:9]"
   ]
  },
  {
   "cell_type": "markdown",
   "metadata": {},
   "source": [
    "7. Crea un *array* de dos dimensiones de 4 x 5 con el método que prefieras y extrae:\n",
    "\n",
    "    - La primera fila y todas las columnas.\n",
    "\n",
    "\n",
    "    - Todas las filas pares.\n",
    "\n",
    "\n",
    "    - La primera columna y todas las filas."
   ]
  },
  {
   "cell_type": "code",
   "execution_count": 33,
   "metadata": {},
   "outputs": [
    {
     "data": {
      "text/plain": [
       "array([[0.34267521, 0.72624573, 0.50154018, 0.16906269, 0.16310006],\n",
       "       [0.23393519, 0.51016452, 0.26061622, 0.89611104, 0.17569813],\n",
       "       [0.79928404, 0.77261508, 0.00184417, 0.14288465, 0.6760445 ],\n",
       "       [0.98946371, 0.36458507, 0.61968034, 0.21600677, 0.57748753]])"
      ]
     },
     "execution_count": 33,
     "metadata": {},
     "output_type": "execute_result"
    }
   ],
   "source": [
    "array_bidimensional = np.random.rand(4,5)\n",
    "array_bidimensional"
   ]
  },
  {
   "cell_type": "code",
   "execution_count": 35,
   "metadata": {},
   "outputs": [
    {
     "data": {
      "text/plain": [
       "array([0.34267521, 0.72624573, 0.50154018, 0.16906269, 0.16310006])"
      ]
     },
     "execution_count": 35,
     "metadata": {},
     "output_type": "execute_result"
    }
   ],
   "source": [
    "array_bidimensional[0]"
   ]
  },
  {
   "cell_type": "code",
   "execution_count": 36,
   "metadata": {},
   "outputs": [
    {
     "data": {
      "text/plain": [
       "array([[0.34267521, 0.72624573, 0.50154018, 0.16906269, 0.16310006],\n",
       "       [0.79928404, 0.77261508, 0.00184417, 0.14288465, 0.6760445 ]])"
      ]
     },
     "execution_count": 36,
     "metadata": {},
     "output_type": "execute_result"
    }
   ],
   "source": [
    "array_bidimensional[::2, :]"
   ]
  },
  {
   "cell_type": "code",
   "execution_count": 37,
   "metadata": {},
   "outputs": [
    {
     "data": {
      "text/plain": [
       "array([0.34267521, 0.23393519, 0.79928404, 0.98946371])"
      ]
     },
     "execution_count": 37,
     "metadata": {},
     "output_type": "execute_result"
    }
   ],
   "source": [
    "array_bidimensional[:, 0]"
   ]
  },
  {
   "cell_type": "markdown",
   "metadata": {},
   "source": [
    "8. Crea una matriz multidimensional de 2 x 3 x 5 de unos y haz una copia de la matriz multidimensional. \n",
    "\n",
    "\n",
    "    - Reemplaza los siguientes valores:\n",
    "\n",
    "        - Array 1, fila 2, columna 3 por 100\n",
    "        \n",
    "        - Array 2, fila 1, columna 4 por 100\n",
    "        \n",
    "        - Array 1, fila 3, columna 2 por 100\n",
    "        \n",
    "        - Array 2, fila 2, columna 1 por 100"
   ]
  },
  {
   "cell_type": "code",
   "execution_count": 41,
   "metadata": {},
   "outputs": [
    {
     "data": {
      "text/plain": [
       "array([[[1., 1., 1., 1., 1.],\n",
       "        [1., 1., 1., 1., 1.],\n",
       "        [1., 1., 1., 1., 1.]],\n",
       "\n",
       "       [[1., 1., 1., 1., 1.],\n",
       "        [1., 1., 1., 1., 1.],\n",
       "        [1., 1., 1., 1., 1.]]])"
      ]
     },
     "execution_count": 41,
     "metadata": {},
     "output_type": "execute_result"
    }
   ],
   "source": [
    "array_1 = np.ones((2,3,5))\n",
    "array_1_copia = array_1.copy()\n",
    "array_1_copia"
   ]
  },
  {
   "cell_type": "code",
   "execution_count": 44,
   "metadata": {},
   "outputs": [],
   "source": [
    "array_1_copia[0, 1, 2] = 100\n",
    "array_1_copia[1, 0, 3] = 100\n",
    "array_1_copia[0, 2, 1] = 100\n",
    "array_1_copia[1, 1, 0] = 100"
   ]
  },
  {
   "cell_type": "code",
   "execution_count": 46,
   "metadata": {},
   "outputs": [
    {
     "data": {
      "text/plain": [
       "array([[[  1.,   1.,   1.,   1.,   1.],\n",
       "        [  1.,   1., 100.,   1.,   1.],\n",
       "        [  1., 100.,   1.,   1.,   1.]],\n",
       "\n",
       "       [[  1.,   1.,   1., 100.,   1.],\n",
       "        [100.,   1.,   1.,   1.,   1.],\n",
       "        [  1.,   1.,   1.,   1.,   1.]]])"
      ]
     },
     "execution_count": 46,
     "metadata": {},
     "output_type": "execute_result"
    }
   ],
   "source": [
    "array_final = array_1_copia.copy()\n",
    "array_final"
   ]
  },
  {
   "cell_type": "code",
   "execution_count": 48,
   "metadata": {},
   "outputs": [
    {
     "data": {
      "text/plain": [
       "array([[[1., 1., 1.],\n",
       "        [1., 1., 1.]],\n",
       "\n",
       "       [[1., 1., 1.],\n",
       "        [1., 1., 1.]],\n",
       "\n",
       "       [[1., 1., 1.],\n",
       "        [1., 1., 1.]],\n",
       "\n",
       "       [[1., 1., 1.],\n",
       "        [1., 1., 1.]],\n",
       "\n",
       "       [[1., 1., 1.],\n",
       "        [1., 1., 1.]]])"
      ]
     },
     "execution_count": 48,
     "metadata": {},
     "output_type": "execute_result"
    }
   ],
   "source": [
    "array_unos = np.ones((5,2,3))\n",
    "\n",
    "array_unos"
   ]
  },
  {
   "cell_type": "code",
   "execution_count": 49,
   "metadata": {},
   "outputs": [
    {
     "data": {
      "text/plain": [
       "array([[[1., 1., 1., 1., 1.],\n",
       "        [1., 1., 1., 1., 1.],\n",
       "        [1., 1., 1., 1., 1.]],\n",
       "\n",
       "       [[1., 1., 1., 1., 1.],\n",
       "        [1., 1., 1., 1., 1.],\n",
       "        [1., 1., 1., 1., 1.]]])"
      ]
     },
     "execution_count": 49,
     "metadata": {},
     "output_type": "execute_result"
    }
   ],
   "source": [
    "2,3,5\n",
    "5,2,3\n",
    "\n",
    "array_unos = np.transpose(array_unos, (1,2, 0))\n",
    "array_unos"
   ]
  },
  {
   "cell_type": "code",
   "execution_count": 50,
   "metadata": {},
   "outputs": [
    {
     "data": {
      "text/plain": [
       "array([[[  2.,   2.,   2.,   2.,   2.],\n",
       "        [  2.,   2., 101.,   2.,   2.],\n",
       "        [  2., 101.,   2.,   2.,   2.]],\n",
       "\n",
       "       [[  2.,   2.,   2., 101.,   2.],\n",
       "        [101.,   2.,   2.,   2.,   2.],\n",
       "        [  2.,   2.,   2.,   2.,   2.]]])"
      ]
     },
     "execution_count": 50,
     "metadata": {},
     "output_type": "execute_result"
    }
   ],
   "source": [
    "array_unos + array_final"
   ]
  },
  {
   "cell_type": "markdown",
   "metadata": {},
   "source": [
    "9. En este ejercicio vamos a tratar de usar algunos de los métodos aprendidos. \n",
    "\n",
    "    - Crea un *array*, puede ser bidimensional o multidimensional! Eso si, los valores tienen que estar entre 0-100\n",
    "\n",
    "    - Calcula: \n",
    "\n",
    "        - La media de los elementos\n",
    "        - La media de las columnas y redondéalo a dos decimales\n",
    "        - El valor máximo de cada fila\n",
    "        - El valor mínimo de cada fila\n",
    "        - Hay algun valor que sea mayor que 90 en tu *array* \n",
    "        - Donde los podemos encontrar, cuáles son sus índices\n",
    "        - Ordena el *array* de mayor a menor\n",
    "\n",
    "    📝 **NOTA** En este ejercicio os hemos pedido algunos de los métodos, pero sentiros libres de practicar otros para ir asentando los conocimientos. \n",
    "    "
   ]
  },
  {
   "cell_type": "code",
   "execution_count": 51,
   "metadata": {},
   "outputs": [
    {
     "data": {
      "text/plain": [
       "array([[12, 74, 14],\n",
       "       [ 5, 24, 47]])"
      ]
     },
     "execution_count": 51,
     "metadata": {},
     "output_type": "execute_result"
    }
   ],
   "source": [
    "array_100 = np.random.randint(0, 100, (2,3))\n",
    "array_100"
   ]
  },
  {
   "cell_type": "code",
   "execution_count": 52,
   "metadata": {},
   "outputs": [],
   "source": [
    "def estadisticos(array):\n",
    "    print(\"La media es:\")\n",
    "    print(array.mean())\n",
    "    print(\"---------------------\")\n",
    "    \n",
    "    print(\"La media de las columnas es es:\")\n",
    "    print(np.round(array.mean(axis = 0), 2))\n",
    "    print(\"---------------------\")\n",
    "    \n",
    "    print(\"El valor máximo de cada fila es:\")\n",
    "    print(array.max(axis = 1))\n",
    "    print(\"---------------------\")\n",
    "    \n",
    "    print(\"El valor mínimo de cada columna es:\")\n",
    "    print(array.max(axis = 0))\n",
    "    print(\"---------------------\")\n",
    "    \n",
    "    print(\"¿Hay algun valor mayor que 90? \")\n",
    "    print(np.any(array > 90))\n",
    "    print(\"---------------------\")\n",
    "    \n",
    "    print(\"¿Donde están los valores mayores de 90? \")\n",
    "    print(np.where(array > 90))\n",
    "    print(\"---------------------\")\n",
    "    \n",
    "    print(\"array ordenado de mayor a menor \")\n",
    "    print(np.short(array))\n",
    "    print(\"---------------------\")\n",
    "    \n",
    "    \n",
    "    \n",
    "    \n",
    "    "
   ]
  },
  {
   "cell_type": "code",
   "execution_count": 53,
   "metadata": {},
   "outputs": [
    {
     "name": "stdout",
     "output_type": "stream",
     "text": [
      "La media es:\n",
      "29.333333333333332\n",
      "---------------------\n",
      "La media de las columnas es es:\n",
      "[ 8.5 49.  30.5]\n",
      "---------------------\n",
      "El valor máximo de cada fila es:\n",
      "[74 47]\n",
      "---------------------\n",
      "El valor mínimo de cada columna es:\n",
      "[12 74 47]\n",
      "---------------------\n",
      "¿Hay algun valor mayor que 90? \n",
      "False\n",
      "---------------------\n",
      "¿Donde están los valores mayores de 90? \n",
      "(array([], dtype=int64), array([], dtype=int64))\n",
      "---------------------\n",
      "array ordenado de mayor a menor \n",
      "[[12 74 14]\n",
      " [ 5 24 47]]\n",
      "---------------------\n"
     ]
    }
   ],
   "source": [
    "estadisticos(array_100)"
   ]
  },
  {
   "cell_type": "code",
   "execution_count": null,
   "metadata": {},
   "outputs": [],
   "source": []
  }
 ],
 "metadata": {
  "kernelspec": {
   "display_name": "promoe",
   "language": "python",
   "name": "python3"
  },
  "language_info": {
   "codemirror_mode": {
    "name": "ipython",
    "version": 3
   },
   "file_extension": ".py",
   "mimetype": "text/x-python",
   "name": "python",
   "nbconvert_exporter": "python",
   "pygments_lexer": "ipython3",
   "version": "3.10.11"
  },
  "orig_nbformat": 4
 },
 "nbformat": 4,
 "nbformat_minor": 2
}
